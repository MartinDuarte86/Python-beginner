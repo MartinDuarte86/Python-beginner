{
  "nbformat": 4,
  "nbformat_minor": 0,
  "metadata": {
    "kernelspec": {
      "display_name": "Python 3",
      "language": "python",
      "name": "python3"
    },
    "language_info": {
      "codemirror_mode": {
        "name": "ipython",
        "version": 3
      },
      "file_extension": ".py",
      "mimetype": "text/x-python",
      "name": "python",
      "nbconvert_exporter": "python",
      "pygments_lexer": "ipython3",
      "version": "3.7.3"
    },
    "colab": {
      "name": "01- 01 Condicional .ipynb",
      "provenance": [],
      "include_colab_link": true
    }
  },
  "cells": [
    {
      "cell_type": "markdown",
      "metadata": {
        "id": "view-in-github",
        "colab_type": "text"
      },
      "source": [
        "<a href=\"https://colab.research.google.com/github/MartinDuarte86/Python-beginner/blob/master/01-%2001%20Condicional%20.ipynb\" target=\"_parent\"><img src=\"https://colab.research.google.com/assets/colab-badge.svg\" alt=\"Open In Colab\"/></a>"
      ]
    },
    {
      "cell_type": "markdown",
      "metadata": {
        "id": "E2RGElN428ZG"
      },
      "source": [
        "# Condicional \"If\" \n",
        "* no se declar con parentesis ni llaves\n",
        "* Se debe especificar con \":\" cuando termina un condicion\n",
        "\n"
      ]
    },
    {
      "cell_type": "markdown",
      "metadata": {
        "id": "sMdjV2hY4uky"
      },
      "source": [
        " ### Ejemplo Basico if"
      ]
    },
    {
      "cell_type": "code",
      "metadata": {
        "id": "M20goOMx28ZI",
        "outputId": "ac97315a-f576-4bce-9b4f-bfea35ddc50e",
        "colab": {
          "base_uri": "https://localhost:8080/",
          "height": 34
        }
      },
      "source": [
        "ingresar_nota = 4\n",
        "if ingresar_nota <= 4:\n",
        "  print('Desaprobado')"
      ],
      "execution_count": null,
      "outputs": [
        {
          "output_type": "stream",
          "text": [
            "Desaprobado\n"
          ],
          "name": "stdout"
        }
      ]
    },
    {
      "cell_type": "markdown",
      "metadata": {
        "id": "VoZSPRUY28ZQ"
      },
      "source": [
        "##  Ejemplo Basico else"
      ]
    },
    {
      "cell_type": "code",
      "metadata": {
        "id": "-No9E5Fp28ZR",
        "outputId": "559bfd7f-447b-4b7a-a772-021d7cb013b3",
        "colab": {
          "base_uri": "https://localhost:8080/",
          "height": 51
        }
      },
      "source": [
        "num = input(\"Ingresar edad\") \n",
        "if  int(num) >= 18:\n",
        "  print('Mayor de edad')\n",
        "else :\n",
        "  print('Menor de edad')\n",
        "  "
      ],
      "execution_count": null,
      "outputs": [
        {
          "output_type": "stream",
          "text": [
            "Ingresar edad18\n",
            "Mayor de edad\n"
          ],
          "name": "stdout"
        }
      ]
    },
    {
      "cell_type": "markdown",
      "metadata": {
        "id": "zQUow0h_28ZY"
      },
      "source": [
        "#Condicional \"elif\"\n",
        "+ Funciona como un case de sql y ejecuta el if como un unico bloque"
      ]
    },
    {
      "cell_type": "code",
      "metadata": {
        "id": "QqXn137I28ZZ",
        "outputId": "df7dbf29-601a-4232-f59d-725888a3b929"
      },
      "source": [
        "num = input(\"Ingresar nota: \") \n",
        "def resultado_nota(nota):\n",
        "    if  nota < 4:\n",
        "        valor= \"No aprobo\"\n",
        "    elif nota ==4:\n",
        "        valor= \"Safaste\"\n",
        "    elif nota <=6:\n",
        "        valor= \"bien\"\n",
        "    elif nota <=8:\n",
        "        valor= \"groso\"\n",
        "    elif nota <=10:\n",
        "        valor= \"genio\"\n",
        "    else :\n",
        "        valor =\"la estas chamuyando\"\n",
        "    return valor\n",
        "\n",
        "print(resultado_nota(int(num)))"
      ],
      "execution_count": null,
      "outputs": [
        {
          "output_type": "stream",
          "text": [
            "Ingresar nota: 20\n",
            "la estas chamuyando\n"
          ],
          "name": "stdout"
        }
      ]
    }
  ]
}