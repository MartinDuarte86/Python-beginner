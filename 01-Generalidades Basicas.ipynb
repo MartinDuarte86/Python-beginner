{
  "nbformat": 4,
  "nbformat_minor": 0,
  "metadata": {
    "kernelspec": {
      "display_name": "Python 3",
      "language": "python",
      "name": "python3"
    },
    "language_info": {
      "codemirror_mode": {
        "name": "ipython",
        "version": 3
      },
      "file_extension": ".py",
      "mimetype": "text/x-python",
      "name": "python",
      "nbconvert_exporter": "python",
      "pygments_lexer": "ipython3",
      "version": "3.7.3"
    },
    "colab": {
      "name": "01-Generalidades Basicas.ipynb",
      "provenance": [],
      "toc_visible": true,
      "include_colab_link": true
    }
  },
  "cells": [
    {
      "cell_type": "markdown",
      "metadata": {
        "id": "view-in-github",
        "colab_type": "text"
      },
      "source": [
        "<a href=\"https://colab.research.google.com/github/MartinDuarte86/Python-beginner/blob/master/01-Generalidades%20Basicas.ipynb\" target=\"_parent\"><img src=\"https://colab.research.google.com/assets/colab-badge.svg\" alt=\"Open In Colab\"/></a>"
      ]
    },
    {
      "cell_type": "markdown",
      "metadata": {
        "id": "f7m6flfBnj_W"
      },
      "source": [
        "# Generalidades de PYTHON\n",
        "+ Flujo siempre ejecuta en flujo de arriba para abajo igual al \"sql\"\n",
        "+ El codigo dentro de la funcion, condicional debe tener siempre pequeña sangria entre la definicion y el evento sino no se ejecuta. \n",
        "+ En python todo es referencia ()\n",
        "+ **%config IPCompleter.greedy=True** \"Agrega el autocompletar al jupiter\"\n",
        "+ **'..'**   \"Se utiliza para indicar que debe subir una carpeta \""
      ]
    },
    {
      "cell_type": "markdown",
      "metadata": {
        "id": "-lbemeUZwUMf"
      },
      "source": [
        "\n"
      ]
    },
    {
      "cell_type": "markdown",
      "metadata": {
        "id": "2vm_dHXbpZk2"
      },
      "source": [
        "##<strong> Operadores Logicos </strong>\n",
        "* **\">\"** Mayor\n",
        "* **\">=\"** Mayor igual\n",
        "* **\"<\"** Menor\n",
        "* **\"<=\"** Menor igual\n",
        "* **\"==\"** igual\n",
        "* **\"!=\"** Diferente\n"
      ]
    },
    {
      "cell_type": "markdown",
      "metadata": {
        "id": "IPi9Y_1728Zg"
      },
      "source": [
        "##<strong> Contatenacion de Operadores  </strong>\n",
        "+ el flujo de comparacion de una variable siempre lo hace de izquierda a derecha primero  0<num y despues anios num<=100::\n"
      ]
    },
    {
      "cell_type": "code",
      "metadata": {
        "id": "iNFai_3s28Zi",
        "outputId": "87cfd9f2-f96d-4da4-8e9b-397844ebbcf3",
        "colab": {
          "base_uri": "https://localhost:8080/",
          "height": 34
        }
      },
      "source": [
        "\n",
        "num =-12\n",
        "\n",
        "if  0<num<=100:\n",
        "    print(\"Edad Correcta\")\n",
        "else:\n",
        "    print(\"Edad Incorrecta\")\n",
        "    \n",
        "\n"
      ],
      "execution_count": null,
      "outputs": [
        {
          "output_type": "stream",
          "text": [
            "Edad Incorrecta\n"
          ],
          "name": "stdout"
        }
      ]
    },
    {
      "cell_type": "markdown",
      "metadata": {
        "id": "MeQLyxAvpcS3"
      },
      "source": [
        "##<strong> ***Comandos Basico***</strong>\n",
        "\n",
        "+ **\"\"\"** Salto de linea en print\n",
        "+ **Num = 5**  (Asignacion de varibles )\n",
        "\n"
      ]
    },
    {
      "cell_type": "markdown",
      "metadata": {
        "id": "-fJSSokXpvSW"
      },
      "source": [
        "\n",
        "##<strong>retornar un valor </strong>\n",
        "* **return**\n",
        "> retonar un valor\n",
        "\n",
        "\n"
      ]
    },
    {
      "cell_type": "markdown",
      "metadata": {
        "id": "VwEhdTLgp9hm"
      },
      "source": [
        "\n",
        "##<strong>Introducir Valor por teclado<strong>\n",
        "* <strong>input()</strong>\n",
        ">cualquier dato ingresado con la funcion \"input()\" es interpretado como texto (string), para convertir la variable en entero se debe poner como int(variable)\n",
        "\n"
      ]
    },
    {
      "cell_type": "markdown",
      "metadata": {
        "id": "Rec1Vpq1qPM2"
      },
      "source": [
        ""
      ]
    },
    {
      "cell_type": "markdown",
      "metadata": {
        "id": "6UkAB_p_nj_d"
      },
      "source": [
        "# Funciones  y metodos \n",
        "\n",
        "+ El codigo dentro de la funcion debe tener un pequeña sangria sino no se ejecuta \n",
        "+ Siempre la declaracion de la funcion debe estar antes intruccion ejemplo basico sino \"arroja error\""
      ]
    },
    {
      "cell_type": "code",
      "metadata": {
        "id": "Mv1PS4KIo8nf",
        "outputId": "359f3a55-50cf-4a46-ff00-33626fdb38ea",
        "colab": {
          "base_uri": "https://localhost:8080/",
          "height": 51
        }
      },
      "source": [
        " num = input(\"Ingresar edad\") \n",
        " def edad(anios):\n",
        "    if  anios >= 18:\n",
        "        valor= \"Mayor de edad\"\n",
        "    else :\n",
        "        valor= \"Menor de edad\"\n",
        "    return valor\n",
        "\n",
        "print(edad(int(num)))\n"
      ],
      "execution_count": null,
      "outputs": [
        {
          "output_type": "stream",
          "text": [
            "Ingresar edad18\n",
            "Mayor de edad\n"
          ],
          "name": "stdout"
        }
      ]
    },
    {
      "cell_type": "markdown",
      "metadata": {
        "id": "uCBP4Ed9orBI"
      },
      "source": [
        "##<strong> Ejemplo basico de una funcion</strong>"
      ]
    },
    {
      "cell_type": "code",
      "metadata": {
        "scrolled": true,
        "id": "dWBSqrhYnj_e",
        "outputId": "5afc79b9-634c-4b4a-935c-9d8442edfcc0",
        "colab": {
          "base_uri": "https://localhost:8080/",
          "height": 34
        }
      },
      "source": [
        "def nombre_funcion (): \n",
        "    print (\"Funcion Basica\")\n",
        "    \n",
        "nombre_funcion ()"
      ],
      "execution_count": null,
      "outputs": [
        {
          "output_type": "stream",
          "text": [
            "Funcion Basica\n"
          ],
          "name": "stdout"
        }
      ]
    },
    {
      "cell_type": "markdown",
      "metadata": {
        "id": "7eOu0pkTnj_h"
      },
      "source": [
        "##<strong> Ejemplo basico de funciones con parametro </strong>"
      ]
    },
    {
      "cell_type": "code",
      "metadata": {
        "scrolled": true,
        "id": "BWiuPyQonj_i",
        "outputId": "71e43fed-509a-4ade-b912-4e54643b0e78",
        "colab": {
          "base_uri": "https://localhost:8080/",
          "height": 51
        }
      },
      "source": [
        "def funcion_suma(num1,num2): \n",
        "    total= num1+num2\n",
        "    return total\n",
        "\n",
        "## llamo a la funcion e imprimo el resultado \n",
        "\n",
        "print(funcion_suma(1,2))\n",
        "\n",
        "## Ejemplo basico de funcion llamo a funcion \n",
        "\n",
        "resultado= funcion_suma(1,2)\n",
        "\n",
        "print (resultado+1 )\n",
        "\n",
        "\n"
      ],
      "execution_count": null,
      "outputs": [
        {
          "output_type": "stream",
          "text": [
            "3\n",
            "4\n"
          ],
          "name": "stdout"
        }
      ]
    },
    {
      "cell_type": "markdown",
      "metadata": {
        "id": "fJKwlVfqnj_l"
      },
      "source": [
        "\n",
        "\n",
        "\n"
      ]
    }
  ]
}